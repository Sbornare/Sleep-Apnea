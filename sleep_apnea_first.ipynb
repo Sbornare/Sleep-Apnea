{
 "cells": [
  {
   "cell_type": "markdown",
   "id": "55e19dc9",
   "metadata": {},
   "source": [
    "# Import Libraries"
   ]
  },
  {
   "cell_type": "code",
   "execution_count": 1,
   "id": "0e3b8856",
   "metadata": {},
   "outputs": [
    {
     "ename": "ImportError",
     "evalue": "cannot import name 'LombScargle' from 'astropy.stats' (c:\\Users\\Prime\\AppData\\Local\\Programs\\Python\\Python312\\Lib\\site-packages\\astropy\\stats\\__init__.py)",
     "output_type": "error",
     "traceback": [
      "\u001b[1;31m---------------------------------------------------------------------------\u001b[0m",
      "\u001b[1;31mImportError\u001b[0m                               Traceback (most recent call last)",
      "Cell \u001b[1;32mIn[1], line 3\u001b[0m\n\u001b[0;32m      1\u001b[0m \u001b[38;5;28;01mimport\u001b[39;00m \u001b[38;5;21;01mnumpy\u001b[39;00m \u001b[38;5;28;01mas\u001b[39;00m \u001b[38;5;21;01mnp\u001b[39;00m\n\u001b[0;32m      2\u001b[0m \u001b[38;5;28;01mimport\u001b[39;00m \u001b[38;5;21;01mwfdb\u001b[39;00m\n\u001b[1;32m----> 3\u001b[0m \u001b[38;5;28;01mimport\u001b[39;00m \u001b[38;5;21;01mhrvanalysis\u001b[39;00m \n\u001b[0;32m      4\u001b[0m \u001b[38;5;28;01mimport\u001b[39;00m \u001b[38;5;21;01mmatplotlib\u001b[39;00m\u001b[38;5;21;01m.\u001b[39;00m\u001b[38;5;21;01mpyplot\u001b[39;00m \u001b[38;5;28;01mas\u001b[39;00m \u001b[38;5;21;01mplt\u001b[39;00m\n\u001b[0;32m      5\u001b[0m \u001b[38;5;28;01mfrom\u001b[39;00m \u001b[38;5;21;01mwfdb\u001b[39;00m \u001b[38;5;28;01mimport\u001b[39;00m get_record_list,plot_wfdb\n",
      "File \u001b[1;32mc:\\Users\\Prime\\AppData\\Local\\Programs\\Python\\Python312\\Lib\\site-packages\\hrvanalysis\\__init__.py:8\u001b[0m\n\u001b[0;32m      4\u001b[0m \u001b[38;5;124;03m\"\"\"This script allow user to import directly the most useful functions.\"\"\"\u001b[39;00m\n\u001b[0;32m      6\u001b[0m __version__ \u001b[38;5;241m=\u001b[39m \u001b[38;5;124m\"\u001b[39m\u001b[38;5;124m1.0.3\u001b[39m\u001b[38;5;124m\"\u001b[39m\n\u001b[1;32m----> 8\u001b[0m \u001b[38;5;28;01mfrom\u001b[39;00m \u001b[38;5;21;01mhrvanalysis\u001b[39;00m\u001b[38;5;21;01m.\u001b[39;00m\u001b[38;5;21;01mextract_features\u001b[39;00m \u001b[38;5;28;01mimport\u001b[39;00m (get_time_domain_features, get_frequency_domain_features,\n\u001b[0;32m      9\u001b[0m                                           get_geometrical_features, get_csi_cvi_features,\n\u001b[0;32m     10\u001b[0m                                           get_poincare_plot_features, get_sampen)\n\u001b[0;32m     12\u001b[0m \u001b[38;5;28;01mfrom\u001b[39;00m \u001b[38;5;21;01mhrvanalysis\u001b[39;00m\u001b[38;5;21;01m.\u001b[39;00m\u001b[38;5;21;01mpreprocessing\u001b[39;00m \u001b[38;5;28;01mimport\u001b[39;00m (remove_outliers, remove_ectopic_beats, interpolate_nan_values,\n\u001b[0;32m     13\u001b[0m                                        get_nn_intervals)\n\u001b[0;32m     15\u001b[0m \u001b[38;5;28;01mfrom\u001b[39;00m \u001b[38;5;21;01mhrvanalysis\u001b[39;00m\u001b[38;5;21;01m.\u001b[39;00m\u001b[38;5;21;01mplot\u001b[39;00m \u001b[38;5;28;01mimport\u001b[39;00m (plot_timeseries, plot_distrib, plot_psd, plot_poincare)\n",
      "File \u001b[1;32mc:\\Users\\Prime\\AppData\\Local\\Programs\\Python\\Python312\\Lib\\site-packages\\hrvanalysis\\extract_features.py:12\u001b[0m\n\u001b[0;32m     10\u001b[0m \u001b[38;5;28;01mfrom\u001b[39;00m \u001b[38;5;21;01mscipy\u001b[39;00m \u001b[38;5;28;01mimport\u001b[39;00m interpolate\n\u001b[0;32m     11\u001b[0m \u001b[38;5;28;01mfrom\u001b[39;00m \u001b[38;5;21;01mscipy\u001b[39;00m \u001b[38;5;28;01mimport\u001b[39;00m signal\n\u001b[1;32m---> 12\u001b[0m \u001b[38;5;28;01mfrom\u001b[39;00m \u001b[38;5;21;01mastropy\u001b[39;00m\u001b[38;5;21;01m.\u001b[39;00m\u001b[38;5;21;01mstats\u001b[39;00m \u001b[38;5;28;01mimport\u001b[39;00m LombScargle\n\u001b[0;32m     14\u001b[0m \u001b[38;5;66;03m# limit functions that user might import using \"from hrv-analysis import *\"\u001b[39;00m\n\u001b[0;32m     15\u001b[0m __all__ \u001b[38;5;241m=\u001b[39m [\u001b[38;5;124m'\u001b[39m\u001b[38;5;124mget_time_domain_features\u001b[39m\u001b[38;5;124m'\u001b[39m, \u001b[38;5;124m'\u001b[39m\u001b[38;5;124mget_frequency_domain_features\u001b[39m\u001b[38;5;124m'\u001b[39m,\n\u001b[0;32m     16\u001b[0m            \u001b[38;5;124m'\u001b[39m\u001b[38;5;124mget_geometrical_features\u001b[39m\u001b[38;5;124m'\u001b[39m, \u001b[38;5;124m'\u001b[39m\u001b[38;5;124mget_poincare_plot_features\u001b[39m\u001b[38;5;124m'\u001b[39m,\n\u001b[0;32m     17\u001b[0m            \u001b[38;5;124m\"\u001b[39m\u001b[38;5;124mget_csi_cvi_features\u001b[39m\u001b[38;5;124m\"\u001b[39m, \u001b[38;5;124m\"\u001b[39m\u001b[38;5;124mget_sampen\u001b[39m\u001b[38;5;124m\"\u001b[39m]\n",
      "\u001b[1;31mImportError\u001b[0m: cannot import name 'LombScargle' from 'astropy.stats' (c:\\Users\\Prime\\AppData\\Local\\Programs\\Python\\Python312\\Lib\\site-packages\\astropy\\stats\\__init__.py)"
     ]
    }
   ],
   "source": [
    "import numpy as np\n",
    "import wfdb\n",
    "import hrvanalysis \n",
    "import matplotlib.pyplot as plt\n",
    "from wfdb import get_record_list,plot_wfdb\n",
    "from wfdb.io import rdheader,rdann,rdrecord\n",
    "from wfdb.processing import normalize_bound\n",
    "import ecgdetectors\n",
    "import scipy\n",
    "from scipy import signal\n",
    "#import emd"
   ]
  },
  {
   "cell_type": "markdown",
   "id": "fb52c33c",
   "metadata": {},
   "source": [
    "# Reading ECG record (data, header, annotation)"
   ]
  },
  {
   "cell_type": "markdown",
   "id": "94dc183f",
   "metadata": {},
   "source": [
    "# Database detail"
   ]
  },
  {
   "cell_type": "code",
   "execution_count": null,
   "id": "e38c4400",
   "metadata": {},
   "outputs": [],
   "source": [
    "get_record_list('apnea-ecg/1.0.0/',records='all')"
   ]
  },
  {
   "cell_type": "code",
   "execution_count": null,
   "id": "68411b30",
   "metadata": {},
   "outputs": [],
   "source": [
    "ecg_record_head=rdheader(record_name=r'D:\\sleep_apnea\\apnea-ecg-database-1.0.0/a01',pn_dir=None,rd_segments=True)\n",
    "ecg_record_ann=rdann(record_name=r'D:\\sleep_apnea\\apnea-ecg-database-1.0.0/a01',extension='apn',sampto=120000,pn_dir=None)\n",
    "ecg_record_sig=rdrecord(record_name=r'D:\\sleep_apnea\\apnea-ecg-database-1.0.0/a01',sampto=120000,pn_dir=None)"
   ]
  },
  {
   "cell_type": "code",
   "execution_count": null,
   "id": "baa1ae38",
   "metadata": {},
   "outputs": [],
   "source": [
    "display(ecg_record_head.__dict__)"
   ]
  },
  {
   "cell_type": "code",
   "execution_count": null,
   "id": "a1121938",
   "metadata": {},
   "outputs": [],
   "source": [
    "display(ecg_record_ann.__dict__)"
   ]
  },
  {
   "cell_type": "code",
   "execution_count": null,
   "id": "22889832",
   "metadata": {},
   "outputs": [],
   "source": [
    "display(ecg_record_sig.__dict__)"
   ]
  },
  {
   "cell_type": "code",
   "execution_count": null,
   "id": "c4d28487",
   "metadata": {},
   "outputs": [],
   "source": [
    "ecg_record_sig.p_signal"
   ]
  },
  {
   "cell_type": "code",
   "execution_count": null,
   "id": "4c297518",
   "metadata": {},
   "outputs": [],
   "source": [
    "ecg_record_sig=rdrecord(record_name=r'D:\\sleep_apnea\\apnea-ecg-database-1.0.0/a01',pn_dir=None,sampfrom=0,sampto=7000)\n",
    "ecg_record_ann=rdann(record_name=r'D:\\sleep_apnea\\apnea-ecg-database-1.0.0/a01',extension='apn',sampto=7000,pn_dir=None)\n",
    "ecg_record_head=rdheader(record_name=r'D:\\sleep_apnea\\apnea-ecg-database-1.0.0/a01',pn_dir=None,rd_segments=True)"
   ]
  },
  {
   "cell_type": "markdown",
   "id": "423ce294",
   "metadata": {},
   "source": [
    "# Visualization of ECG record"
   ]
  },
  {
   "cell_type": "code",
   "execution_count": null,
   "id": "4cfd4757",
   "metadata": {},
   "outputs": [],
   "source": [
    "plot_wfdb(ecg_record_sig,title='Record a01 from Physionet Apnea ECG',figsize=[15,10], ecg_grids='all')"
   ]
  },
  {
   "cell_type": "markdown",
   "id": "78edc71c",
   "metadata": {},
   "source": [
    "# Display record with annotation "
   ]
  },
  {
   "cell_type": "code",
   "execution_count": null,
   "id": "681c203e",
   "metadata": {},
   "outputs": [],
   "source": [
    "plot_wfdb(record=ecg_record_sig, annotation=ecg_record_ann, plot_sym=True, title='Record a01 from Physionet Apnea ECG',figsize=(15,10))"
   ]
  },
  {
   "cell_type": "markdown",
   "id": "caac4275",
   "metadata": {},
   "source": [
    "# Reading ECG signal"
   ]
  },
  {
   "cell_type": "code",
   "execution_count": null,
   "id": "f4eccbac",
   "metadata": {},
   "outputs": [],
   "source": [
    "signals, fields = wfdb.rdsamp(r'D:\\sleep_apnea\\apnea-ecg-database-1.0.0/a01',pn_dir=None,sampfrom= 0,sampto=6000)\n",
    "print(signals)\n",
    "print(fields)"
   ]
  },
  {
   "cell_type": "code",
   "execution_count": null,
   "id": "e882b7b1",
   "metadata": {},
   "outputs": [],
   "source": [
    "fs=fields['fs']\n",
    "T=1/fs ;\n",
    "t=np.arange(0,fields['sig_len'])*T\n",
    "plt.figure(figsize=(15,10))\n",
    "plt.plot(t,signals)\n",
    "plt.title('ECG signal')\n",
    "plt.xlabel('time(ms)')\n",
    "plt.ylabel('Amplitude(mv)')\n",
    "plt.show()\n"
   ]
  },
  {
   "cell_type": "code",
   "execution_count": null,
   "id": "55493701",
   "metadata": {},
   "outputs": [],
   "source": [
    "\n",
    "ecg_norm=(signals-np.min(signals))/np.max(signals)\n",
    "plt.figure(figsize=(15,10))\n",
    "plt.plot(t,ecg_norm)\n",
    "plt.title('Normalized ECG signal')\n",
    "plt.xlabel('time(ms)')\n",
    "plt.ylabel('Amplitude(mv)')\n",
    "plt.show()\n"
   ]
  },
  {
   "cell_type": "code",
   "execution_count": null,
   "id": "d81d4034",
   "metadata": {},
   "outputs": [],
   "source": [
    "import pandas as pa\n",
    "sigl=pa.DataFrame(signals)[0].values"
   ]
  },
  {
   "cell_type": "code",
   "execution_count": null,
   "id": "0e269fb5",
   "metadata": {},
   "outputs": [],
   "source": [
    "from ecgdetectors import Detectors"
   ]
  },
  {
   "cell_type": "code",
   "execution_count": null,
   "id": "f0757c7d",
   "metadata": {},
   "outputs": [],
   "source": [
    "detectors = Detectors(fs)"
   ]
  },
  {
   "cell_type": "code",
   "execution_count": null,
   "id": "6b280163",
   "metadata": {},
   "outputs": [],
   "source": [
    "r_peaks = detectors.pan_tompkins_detector(sigl)#(np.transpose(ecg_norm))\n",
    "#r_p=[n-5 for n in r_peaks]\n",
    "r_p=r_peaks"
   ]
  },
  {
   "cell_type": "code",
   "execution_count": null,
   "id": "850c9f07",
   "metadata": {},
   "outputs": [],
   "source": [
    "r_p"
   ]
  },
  {
   "cell_type": "code",
   "execution_count": null,
   "id": "69db153e",
   "metadata": {},
   "outputs": [],
   "source": [
    "plt.figure(figsize=(15,10))\n",
    "plt.plot(t,ecg_norm)\n",
    "plt.plot(t[r_p],ecg_norm[r_p],'ro')\n",
    "plt.title('Rpeak detection using pan-tomkins method')\n",
    "plt.show()"
   ]
  },
  {
   "cell_type": "code",
   "execution_count": null,
   "id": "e8be3951",
   "metadata": {},
   "outputs": [],
   "source": [
    "from PyEMD import EMD,Visualisation,CEEMDAN\n",
    "emd = EMD()\n",
    "IMFs = emd(sigl,t)\n",
    "imfs, res = emd.get_imfs_and_residue()"
   ]
  },
  {
   "cell_type": "code",
   "execution_count": null,
   "id": "bc4a5010",
   "metadata": {},
   "outputs": [],
   "source": [
    "vis = Visualisation()\n",
    "vis.plot_imfs(imfs=imfs, residue=res, t=t, include_residue=True)\n",
    "#vis.plot_instant_freq(t, imfs=imfs)\n",
    "vis.show()"
   ]
  },
  {
   "cell_type": "code",
   "execution_count": null,
   "id": "fb49094c",
   "metadata": {},
   "outputs": [],
   "source": [
    "from scipy.signal import hilbert,find_peaks"
   ]
  },
  {
   "cell_type": "code",
   "execution_count": null,
   "id": "358a497e",
   "metadata": {},
   "outputs": [],
   "source": [
    "def non_linear(s_1):\n",
    "    analytic_signal = hilbert(s_1)\n",
    "    amplitude_envelope = np.abs(analytic_signal)\n",
    "    #plt.figure(figsize=(10,15))\n",
    "    #plt.subplot(121),plt.plot(s_1)\n",
    "    #plt.subplot(122),plt.plot(amplitude_envelope)\n",
    "    #plt.show()\n",
    "    return amplitude_envelope"
   ]
  },
  {
   "cell_type": "code",
   "execution_count": null,
   "id": "72fcd95c",
   "metadata": {},
   "outputs": [],
   "source": [
    "f_1=non_linear(IMFs[1,:])\n",
    "plt.figure(figsize=(15,10))\n",
    "plt.plot(t,f_1)\n",
    "plt.show()\n",
    "s_1=non_linear(IMFs[2,:])\n",
    "plt.figure(figsize=(15,10))\n",
    "plt.plot(t,s_1)\n",
    "plt.show()\n",
    "t_1=non_linear(IMFs[3,:])\n",
    "plt.figure(figsize=(15,10))\n",
    "plt.plot(t,t_1)\n",
    "plt.show()\n",
    "fr_1=non_linear(IMFs[4,:])\n",
    "s_non=f_1+s_1+t_1;\n"
   ]
  },
  {
   "cell_type": "code",
   "execution_count": null,
   "id": "b045a6dd",
   "metadata": {},
   "outputs": [],
   "source": [
    "M=10\n",
    "u=f_1+s_1+t_1\n",
    "va=np.zeros(len(f_1))\n",
    "for i in range(M,len(IMFs[1,:])-M):\n",
    "    tem=np.mean(u[i-M:i])\n",
    "    va[i]=tem\n"
   ]
  },
  {
   "cell_type": "code",
   "execution_count": null,
   "id": "03323194",
   "metadata": {},
   "outputs": [],
   "source": [
    "plt.figure(figsize=(15,10))\n",
    "plt.plot(va)\n",
    "plt.show()"
   ]
  },
  {
   "cell_type": "code",
   "execution_count": null,
   "id": "256c3a47",
   "metadata": {},
   "outputs": [],
   "source": [
    "plt.figure(figsize=(15,10))\n",
    "plt.plot(t,s_non)\n",
    "plt.show()"
   ]
  },
  {
   "cell_type": "code",
   "execution_count": null,
   "id": "bcedbfe4",
   "metadata": {},
   "outputs": [],
   "source": [
    "peaks, _ = find_peaks(sigl, height=np.max(sigl)/2)\n",
    "plt.figure(figsize=(15,10))\n",
    "plt.plot(t,ecg_norm)\n",
    "plt.plot(t[peaks],ecg_norm[peaks],'ro')\n",
    "plt.title('Rpeak detection using EMD method')\n",
    "plt.show()"
   ]
  },
  {
   "cell_type": "code",
   "execution_count": null,
   "id": "b0c3ce33",
   "metadata": {},
   "outputs": [],
   "source": [
    "peaks"
   ]
  },
  {
   "cell_type": "code",
   "execution_count": null,
   "id": "bcd6edb5",
   "metadata": {},
   "outputs": [],
   "source": [
    "rr=np.diff(t[peaks])\n",
    "\n",
    "60/rr[1]"
   ]
  },
  {
   "cell_type": "code",
   "execution_count": null,
   "id": "e5f404e6",
   "metadata": {},
   "outputs": [],
   "source": [
    "plt.figure(figsize=(20,7))\n",
    "plt.plot(np.cumsum(rr), rr, label=\"RR-interval\", color=\"#A651D8\")\n",
    "\n",
    "plt.title('RR interval')\n",
    "plt.xlabel('Time(ms)')\n",
    "plt.ylabel('RR interval(s)')\n",
    "plt.show()"
   ]
  },
  {
   "cell_type": "code",
   "execution_count": null,
   "id": "a3882693",
   "metadata": {},
   "outputs": [],
   "source": [
    "from hrvanalysis import remove_outliers, remove_ectopic_beats, interpolate_nan_values"
   ]
  },
  {
   "cell_type": "code",
   "execution_count": null,
   "id": "888a510a",
   "metadata": {},
   "outputs": [],
   "source": [
    "rr_intervals_list =rr\n",
    "\n",
    "rr_intervals_without_outliers = remove_outliers(rr_intervals=rr_intervals_list,low_rri=np.mean(rr) - 2 * np.std(rr), high_rri=np.mean(rr) + 2 * np.std(rr))\n",
    "\n",
    "interpolated_rr_intervals = interpolate_nan_values(rr_intervals=rr_intervals_without_outliers,interpolation_method=\"cubic\")\n",
    "\n",
    "nn_intervals_list = remove_ectopic_beats(rr_intervals=interpolated_rr_intervals, method=\"malik\")\n",
    "\n",
    "interpolated_nn_intervals = interpolate_nan_values(rr_intervals=nn_intervals_list)"
   ]
  },
  {
   "cell_type": "code",
   "execution_count": null,
   "id": "54bcb25c",
   "metadata": {},
   "outputs": [],
   "source": [
    "len(nn_intervals_list)"
   ]
  },
  {
   "cell_type": "code",
   "execution_count": null,
   "id": "5ce39c77",
   "metadata": {},
   "outputs": [],
   "source": [
    "plt.figure(figsize=(20,7))\n",
    "plt.subplot(122)\n",
    "plt.plot(np.cumsum(rr), interpolated_nn_intervals, label=\"RR-interval\", color='red')\n",
    "\n",
    "plt.title('NN interval')\n",
    "plt.xlabel('Time(ms)')\n",
    "plt.ylabel('NN interval(s)')\n",
    "plt.ylim(0,2)\n",
    "plt.subplot(121)\n",
    "\n",
    "plt.plot(np.cumsum(rr), rr, label=\"RR-interval\", color=\"green\")\n",
    "plt.ylim(0,2)\n",
    "plt.title('RR interval')\n",
    "plt.xlabel('Time(ms)')\n",
    "plt.ylabel('RR interval(s)')\n",
    "plt.show()"
   ]
  },
  {
   "cell_type": "code",
   "execution_count": null,
   "id": "74d5d3e4",
   "metadata": {},
   "outputs": [],
   "source": [
    "from hrvanalysis import get_frequency_domain_features,get_csi_cvi_features,get_geometrical_features,get_poincare_plot_features"
   ]
  },
  {
   "cell_type": "code",
   "execution_count": null,
   "id": "51577fbf",
   "metadata": {},
   "outputs": [],
   "source": [
    "# time domain features\n",
    "\n",
    "length_int = len(nn_intervals_list) \n",
    "diff_nni = np.diff(nn_intervals_list)\n",
    "mean_nni=np.mean(nn_intervals_list)\n",
    "median_nni = np.median(nn_intervals_list)\n",
    "range_nni = max(nn_intervals_list) - min(nn_intervals_list)\n",
    "sdsd = np.std(diff_nni)\n",
    "rmssd = np.sqrt(np.mean(diff_nni ** 2))\n",
    "nni_50 = sum(np.abs(diff_nni) > 50)\n",
    "pnni_50 = 100 * nni_50 / length_int\n",
    "nni_20 = sum(np.abs(diff_nni) > 20)\n",
    "pnni_20 = 100 * nni_20 / length_int\n",
    "cvsd = rmssd / mean_nni\n",
    "sdnn = np.std(nn_intervals_list, ddof=1)  \n",
    "cvnni = sdnn / mean_nni\n",
    "\n",
    "heart_rate_list = np.divide(60, nn_intervals_list)\n",
    "mean_hr = np.mean(heart_rate_list)\n",
    "min_hr = min(heart_rate_list)\n",
    "max_hr = max(heart_rate_list)\n",
    "std_hr = np.std(heart_rate_list)"
   ]
  },
  {
   "cell_type": "code",
   "execution_count": null,
   "id": "90864615",
   "metadata": {},
   "outputs": [],
   "source": [
    "from scipy.interpolate import interp1d\n",
    "from scipy.integrate import trapz"
   ]
  },
  {
   "cell_type": "code",
   "execution_count": null,
   "id": "15353b2d",
   "metadata": {},
   "outputs": [],
   "source": [
    "nn_intervals_list"
   ]
  },
  {
   "cell_type": "code",
   "execution_count": null,
   "id": "cecc4e99",
   "metadata": {},
   "outputs": [],
   "source": [
    "x = np.cumsum(interpolated_nn_intervals) \n",
    "f = interp1d(x,interpolated_nn_intervals, kind='cubic')\n",
    "fs = 3.0\n",
    "steps = 1 / fs\n",
    "xx = np.arange(1, np.max(x), steps)\n",
    "rr_interpolated = f(xx)"
   ]
  },
  {
   "cell_type": "code",
   "execution_count": null,
   "id": "e6217ad0",
   "metadata": {},
   "outputs": [],
   "source": [
    "plt.figure(figsize=(20,15))\n",
    "plt.subplot(211)\n",
    "plt.plot(x,nn_intervals_list,color='green')\n",
    "plt.title('RR-interval')\n",
    "\n",
    "plt.subplot(212)\n",
    "plt.plot(xx,rr_interpolated,color='red' )\n",
    "plt.title('RR interval interpolated')\n",
    "plt.show()"
   ]
  },
  {
   "cell_type": "code",
   "execution_count": null,
   "id": "2140215c",
   "metadata": {},
   "outputs": [],
   "source": [
    "# frequency domain feature"
   ]
  },
  {
   "cell_type": "code",
   "execution_count": null,
   "id": "e8d72cc5",
   "metadata": {},
   "outputs": [],
   "source": [
    "fxx, pxx = signal.welch(x=rr_interpolated, fs=3,nperseg=100)\n",
    "\n",
    "cond_vlf = (fxx >= 0) & (fxx < 0.04)\n",
    "cond_lf = (fxx >= 0.04) & (fxx < 0.15)\n",
    "cond_hf = (fxx >= 0.15) & (fxx < 0.4)\n",
    "    \n",
    "    \n",
    "vlf = trapz(pxx[cond_vlf], fxx[cond_vlf])\n",
    "lf = trapz(pxx[cond_lf], fxx[cond_lf])\n",
    "hf = trapz(pxx[cond_hf], fxx[cond_hf])\n",
    "    \n",
    "    \n",
    "total_power = vlf + lf + hf\n",
    "\n",
    "  \n",
    "peak_vlf = fxx[cond_vlf][np.argmax(pxx[cond_vlf])]\n",
    "peak_lf = fxx[cond_lf][np.argmax(pxx[cond_lf])]\n",
    "peak_hf = fxx[cond_hf][np.argmax(pxx[cond_hf])]\n",
    "\n",
    "   \n",
    "lf_nu = 100 * lf / (lf + hf)\n",
    "hf_nu = 100 * hf / (lf + hf)\n",
    "lf_nu"
   ]
  },
  {
   "cell_type": "code",
   "execution_count": null,
   "id": "042b7a90",
   "metadata": {},
   "outputs": [],
   "source": [
    "#frequency_domain_features = get_frequency_domain_features(nn_intervals_list)"
   ]
  },
  {
   "cell_type": "code",
   "execution_count": null,
   "id": "218c6134",
   "metadata": {},
   "outputs": [],
   "source": [
    "#frequency_domain_features"
   ]
  },
  {
   "cell_type": "code",
   "execution_count": null,
   "id": "c0df224b",
   "metadata": {
    "scrolled": true
   },
   "outputs": [],
   "source": [
    "rr_n = nn_intervals_list[:-1]\n",
    "rr_n1 =nn_intervals_list[1:]\n",
    "\n",
    "sd1 = np.sqrt(0.5) * np.std(np.array([rr_n1]) - np.array([rr_n]))\n",
    "sd2 = np.sqrt(0.5) * np.std(np.array([rr_n1]) + np.array([rr_n]))\n",
    "\n",
    "s_d=sd1/sd2"
   ]
  },
  {
   "cell_type": "code",
   "execution_count": null,
   "id": "97f968ff",
   "metadata": {},
   "outputs": [],
   "source": [
    "csi_cvi_features=get_csi_cvi_features(nn_intervals_list)\n",
    "csi_cvi_features"
   ]
  },
  {
   "cell_type": "code",
   "execution_count": null,
   "id": "af649631",
   "metadata": {},
   "outputs": [],
   "source": [
    "non_linear_feature=get_poincare_plot_features(nn_intervals_list)\n",
    "non_linear_feature"
   ]
  },
  {
   "cell_type": "code",
   "execution_count": null,
   "id": "b001bef1",
   "metadata": {},
   "outputs": [],
   "source": [
    "from hrvanalysis import plot_timeseries,plot_distrib,plot_psd,plot_poincare\n"
   ]
  },
  {
   "cell_type": "code",
   "execution_count": null,
   "id": "ec315ec2",
   "metadata": {},
   "outputs": [],
   "source": [
    "plot_timeseries(interpolated_nn_intervals)"
   ]
  },
  {
   "cell_type": "code",
   "execution_count": null,
   "id": "ded37bf0",
   "metadata": {},
   "outputs": [],
   "source": [
    "plot_psd(interpolated_nn_intervals,'welch',3,'cubic')"
   ]
  },
  {
   "cell_type": "code",
   "execution_count": null,
   "id": "872d1845",
   "metadata": {},
   "outputs": [],
   "source": []
  },
  {
   "cell_type": "code",
   "execution_count": null,
   "id": "be189f09",
   "metadata": {},
   "outputs": [],
   "source": []
  }
 ],
 "metadata": {
  "kernelspec": {
   "display_name": "Python 3 (ipykernel)",
   "language": "python",
   "name": "python3"
  },
  "language_info": {
   "codemirror_mode": {
    "name": "ipython",
    "version": 3
   },
   "file_extension": ".py",
   "mimetype": "text/x-python",
   "name": "python",
   "nbconvert_exporter": "python",
   "pygments_lexer": "ipython3",
   "version": "3.12.5"
  }
 },
 "nbformat": 4,
 "nbformat_minor": 5
}
